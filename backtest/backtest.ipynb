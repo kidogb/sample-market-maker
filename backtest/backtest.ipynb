{
 "cells": [
  {
   "cell_type": "code",
   "execution_count": 37,
   "metadata": {
    "collapsed": true
   },
   "outputs": [],
   "source": [
    "import pandas as pd\n",
    "import talib"
   ]
  },
  {
   "cell_type": "code",
   "execution_count": 38,
   "metadata": {
    "collapsed": false,
    "pycharm": {
     "name": "#%%\n"
    }
   },
   "outputs": [],
   "source": [
    "xbt_df_15m = pd.read_csv(\"../data/XBTUSD-15m-data.csv\")"
   ]
  },
  {
   "cell_type": "code",
   "execution_count": 39,
   "metadata": {
    "collapsed": false,
    "pycharm": {
     "name": "#%%\n"
    }
   },
   "outputs": [
    {
     "data": {
      "text/html": [
       "<div>\n<style scoped>\n    .dataframe tbody tr th:only-of-type {\n        vertical-align: middle;\n    }\n\n    .dataframe tbody tr th {\n        vertical-align: top;\n    }\n\n    .dataframe thead th {\n        text-align: right;\n    }\n</style>\n<table border=\"1\" class=\"dataframe\">\n  <thead>\n    <tr style=\"text-align: right;\">\n      <th></th>\n      <th>timestamp</th>\n      <th>symbol</th>\n      <th>open</th>\n      <th>high</th>\n      <th>low</th>\n      <th>close</th>\n      <th>volume</th>\n    </tr>\n  </thead>\n  <tbody>\n    <tr>\n      <th>0</th>\n      <td>2015-09-25 12:15:00+00:00</td>\n      <td>XBTUSD</td>\n      <td>NaN</td>\n      <td>NaN</td>\n      <td>NaN</td>\n      <td>NaN</td>\n      <td>0</td>\n    </tr>\n    <tr>\n      <th>1</th>\n      <td>2015-09-25 12:30:00+00:00</td>\n      <td>XBTUSD</td>\n      <td>NaN</td>\n      <td>NaN</td>\n      <td>NaN</td>\n      <td>NaN</td>\n      <td>0</td>\n    </tr>\n    <tr>\n      <th>2</th>\n      <td>2015-09-25 12:45:00+00:00</td>\n      <td>XBTUSD</td>\n      <td>239.99</td>\n      <td>239.99</td>\n      <td>237.37</td>\n      <td>237.49</td>\n      <td>6501</td>\n    </tr>\n    <tr>\n      <th>3</th>\n      <td>2015-09-25 13:00:00+00:00</td>\n      <td>XBTUSD</td>\n      <td>237.49</td>\n      <td>237.47</td>\n      <td>237.36</td>\n      <td>237.45</td>\n      <td>5000</td>\n    </tr>\n    <tr>\n      <th>4</th>\n      <td>2015-09-25 13:15:00+00:00</td>\n      <td>XBTUSD</td>\n      <td>237.45</td>\n      <td>237.45</td>\n      <td>237.45</td>\n      <td>237.45</td>\n      <td>0</td>\n    </tr>\n    <tr>\n      <th>...</th>\n      <td>...</td>\n      <td>...</td>\n      <td>...</td>\n      <td>...</td>\n      <td>...</td>\n      <td>...</td>\n      <td>...</td>\n    </tr>\n    <tr>\n      <th>165802</th>\n      <td>2020-06-17 14:45:00+00:00</td>\n      <td>XBTUSD</td>\n      <td>9403.00</td>\n      <td>9419.00</td>\n      <td>9352.00</td>\n      <td>9395.00</td>\n      <td>73757898</td>\n    </tr>\n    <tr>\n      <th>165803</th>\n      <td>2020-06-17 15:00:00+00:00</td>\n      <td>XBTUSD</td>\n      <td>9395.00</td>\n      <td>9415.00</td>\n      <td>9390.00</td>\n      <td>9401.00</td>\n      <td>18192646</td>\n    </tr>\n    <tr>\n      <th>165804</th>\n      <td>2020-06-17 15:15:00+00:00</td>\n      <td>XBTUSD</td>\n      <td>9401.00</td>\n      <td>9414.50</td>\n      <td>9390.50</td>\n      <td>9411.00</td>\n      <td>18987626</td>\n    </tr>\n    <tr>\n      <th>165805</th>\n      <td>2020-06-17 15:30:00+00:00</td>\n      <td>XBTUSD</td>\n      <td>9411.00</td>\n      <td>9416.00</td>\n      <td>9401.50</td>\n      <td>9411.00</td>\n      <td>8455552</td>\n    </tr>\n    <tr>\n      <th>165806</th>\n      <td>2020-06-17 15:45:00+00:00</td>\n      <td>XBTUSD</td>\n      <td>9411.00</td>\n      <td>9411.50</td>\n      <td>9392.50</td>\n      <td>9401.50</td>\n      <td>6429455</td>\n    </tr>\n  </tbody>\n</table>\n<p>165807 rows × 7 columns</p>\n</div>"
      ],
      "text/plain": [
       "                        timestamp  symbol     open     high      low    close  \\\n0       2015-09-25 12:15:00+00:00  XBTUSD      NaN      NaN      NaN      NaN   \n1       2015-09-25 12:30:00+00:00  XBTUSD      NaN      NaN      NaN      NaN   \n2       2015-09-25 12:45:00+00:00  XBTUSD   239.99   239.99   237.37   237.49   \n3       2015-09-25 13:00:00+00:00  XBTUSD   237.49   237.47   237.36   237.45   \n4       2015-09-25 13:15:00+00:00  XBTUSD   237.45   237.45   237.45   237.45   \n...                           ...     ...      ...      ...      ...      ...   \n165802  2020-06-17 14:45:00+00:00  XBTUSD  9403.00  9419.00  9352.00  9395.00   \n165803  2020-06-17 15:00:00+00:00  XBTUSD  9395.00  9415.00  9390.00  9401.00   \n165804  2020-06-17 15:15:00+00:00  XBTUSD  9401.00  9414.50  9390.50  9411.00   \n165805  2020-06-17 15:30:00+00:00  XBTUSD  9411.00  9416.00  9401.50  9411.00   \n165806  2020-06-17 15:45:00+00:00  XBTUSD  9411.00  9411.50  9392.50  9401.50   \n\n          volume  \n0              0  \n1              0  \n2           6501  \n3           5000  \n4              0  \n...          ...  \n165802  73757898  \n165803  18192646  \n165804  18987626  \n165805   8455552  \n165806   6429455  \n\n[165807 rows x 7 columns]"
      ]
     },
     "execution_count": 39,
     "metadata": {},
     "output_type": "execute_result"
    }
   ],
   "source": [
    "xbt_df_15m"
   ]
  },
  {
   "cell_type": "code",
   "execution_count": 40,
   "metadata": {
    "collapsed": false,
    "pycharm": {
     "name": "#%%\n"
    }
   },
   "outputs": [],
   "source": [
    "# calculating\n",
    "ema_slow = talib.EMA(xbt_df_15m['close'], timeperiod=188)\n",
    "ema_fast = talib.EMA(xbt_df_15m['close'], timeperiod=153)\n",
    "adx = talib.ADX(high=xbt_df_15m['high'],low=xbt_df_15m['low'], close=xbt_df_15m['close'], timeperiod=6)"
   ]
  },
  {
   "cell_type": "code",
   "execution_count": 41,
   "metadata": {
    "collapsed": false,
    "pycharm": {
     "name": "#%%\n"
    }
   },
   "outputs": [
    {
     "data": {
      "text/plain": [
       "0               NaN\n1               NaN\n2               NaN\n3               NaN\n4               NaN\n            ...    \n165802    31.634760\n165803    33.598039\n165804    35.234105\n165805    36.107864\n165806    38.111101\nLength: 165807, dtype: float64"
      ]
     },
     "execution_count": 41,
     "metadata": {},
     "output_type": "execute_result"
    }
   ],
   "source": [
    "ema_fast\n",
    "ema_slow\n",
    "adx"
   ]
  },
  {
   "cell_type": "code",
   "execution_count": 42,
   "metadata": {
    "collapsed": false,
    "pycharm": {
     "name": "#%%\n"
    }
   },
   "outputs": [],
   "source": [
    "in_position = False\n",
    "adx_threshold = 28.57878459432971\n",
    "trailing = 0.6056322493449964  # %"
   ]
  },
  {
   "cell_type": "code",
   "execution_count": 43,
   "metadata": {
    "collapsed": false,
    "pycharm": {
     "name": "#%%\n"
    }
   },
   "outputs": [],
   "source": [
    "entry_price = 0\n",
    "stop_price = 0\n",
    "run_up_price = 0\n",
    "dd_price = 0\n",
    "start = None\n",
    "end = None\n",
    "order_history = []\n",
    "for index, row in xbt_df_15m.iterrows():\n",
    "    price = row['close']\n",
    "    is_trending_market = adx[index] >= adx_threshold\n",
    "    long_condition = not in_position and is_trending_market and ema_fast[index-1] <= ema_slow[index-1] and ema_fast[index] > ema_slow[index] and price > ema_slow[index]\n",
    "    exit_long_condition = in_position and ema_fast[index] < ema_slow[index] and price < ema_slow[index]\n",
    "    stop_long_condition = False\n",
    "    if long_condition:\n",
    "        in_position = True\n",
    "        entry_price = price\n",
    "        run_up_price = price\n",
    "        dd_price = price\n",
    "        start = row['timestamp']\n",
    "    if in_position:\n",
    "        # re-calculate run_up and dd price and stop_price\n",
    "        run_up_price = max(price, run_up_price)\n",
    "        dd_price = min(price, dd_price)\n",
    "        stop_price = run_up_price * (1 - trailing/100)\n",
    "        stop_long_condition = price <= stop_price\n",
    "\n",
    "    if stop_long_condition or exit_long_condition:\n",
    "        in_position = False\n",
    "        end = row['timestamp']\n",
    "        order_type = \"stop\" if stop_long_condition else \"exit\"\n",
    "        profit = 100*(price - entry_price)/entry_price\n",
    "        order_history.append({\"start\": start, \"end\": end, \"type\": order_type, \"entry\": entry_price, \"exit\": price, \"profit\": profit, \"dd\": dd_price, \"stop\": stop_price, \"ru\": run_up_price})\n",
    "        # reset\n",
    "        entry_price = 0\n",
    "        run_up_price = 0\n",
    "        dd_price = 0\n",
    "        stop_price = 0\n",
    "        start = None\n",
    "        end = None"
   ]
  },
  {
   "cell_type": "code",
   "execution_count": 44,
   "metadata": {
    "collapsed": false,
    "pycharm": {
     "name": "#%%\n"
    }
   },
   "outputs": [],
   "source": [
    "order_history_df = pd.DataFrame(order_history)\n",
    "order_history_df.to_csv(\"XBTUSD-15m-results.csv\")"
   ]
  }
 ],
 "metadata": {
  "kernelspec": {
   "display_name": "Python 3",
   "language": "python",
   "name": "python3"
  },
  "language_info": {
   "codemirror_mode": {
    "name": "ipython",
    "version": 2
   },
   "file_extension": ".py",
   "mimetype": "text/x-python",
   "name": "python",
   "nbconvert_exporter": "python",
   "pygments_lexer": "ipython2",
   "version": "2.7.6"
  }
 },
 "nbformat": 4,
 "nbformat_minor": 0
}
